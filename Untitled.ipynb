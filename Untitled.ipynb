{
 "cells": [
  {
   "cell_type": "code",
   "execution_count": 3,
   "metadata": {
    "collapsed": true
   },
   "outputs": [],
   "source": [
    "data = \"\"\"\n",
    "\n",
    "stu(1, human, library).\n",
    "stu(2, human, library).\n",
    "stu(3, cat, ugl).\n",
    "stu(4, cat, ncsa).\n",
    "\n",
    "is_human(I) :- stu(I, S, _), S <> human.\n",
    "\n",
    "\"\"\"\n",
    "\n",
    "with open('data.dlv', 'wt') as dlv_out:\n",
    "    dlv_out.write(data)"
   ]
  },
  {
   "cell_type": "code",
   "execution_count": 4,
   "metadata": {
    "collapsed": false
   },
   "outputs": [
    {
     "name": "stdout",
     "output_type": "stream",
     "text": [
      "DLV [build BEN+ODBC/Dec 17 2012   gcc 4.2.1 (Apple Inc. build 5666) (dot 3)]\r\n",
      "\r\n",
      "{is_human(3), is_human(4)}\r\n"
     ]
    }
   ],
   "source": [
    "!./dlv data.dlv -filter=is_human"
   ]
  },
  {
   "cell_type": "code",
   "execution_count": null,
   "metadata": {
    "collapsed": true
   },
   "outputs": [],
   "source": []
  }
 ],
 "metadata": {
  "kernelspec": {
   "display_name": "Python 2",
   "language": "python",
   "name": "python2"
  },
  "language_info": {
   "codemirror_mode": {
    "name": "ipython",
    "version": 2
   },
   "file_extension": ".py",
   "mimetype": "text/x-python",
   "name": "python",
   "nbconvert_exporter": "python",
   "pygments_lexer": "ipython2",
   "version": "2.7.11"
  }
 },
 "nbformat": 4,
 "nbformat_minor": 0
}
